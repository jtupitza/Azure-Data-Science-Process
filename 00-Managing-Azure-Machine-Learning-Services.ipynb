{
 "cells": [
  {
   "cell_type": "markdown",
   "metadata": {},
   "source": [
    "## Managing Azure Machine Learning Workspaces\n",
    "Creating Azure Machine Learning Services workspaces is a very straight-forward operation having only four (4) parameters:\n",
    "1. An Azure **Subscription ID** (GUID)\n",
    "2. A **Workspace Name** for the new workspace being created\n",
    "3. The name of a new or existing Azure **Resource Group**\n",
    "4. An Azure Datacenter **Location**; e.g., US East, US West 2, North Europe, West Europe\n",
    "\n",
    "What's more, Azure Machine Learning Service workspaces can be managed using a variety of tools and approaches:\n",
    "* Using the Azure Portal interface\n",
    "* Using an Azure Resource Manager (ARM) template\n",
    "* Using the **Azure Machine Learning SDK for Python** from a variety of IDE's:\n",
    "  * Azure Jupyter Notebooks\n",
    "  * Locally installed Jupyter Notebooks\n",
    "  * Visual Studio Code\n",
    "  * Azure Data Science Virtual Machines\n",
    "  * Azure Databricks\n",
    "* Using the **CLI Extension for Azure Machine Learning** from one of the following Command-Line Interfaces:\n",
    "  * Azure CLI\n",
    "  * Azure PowerShell"
   ]
  },
  {
   "cell_type": "markdown",
   "metadata": {},
   "source": [
    "### Create a New Workspace using the Azure Machine Learning SDK for Python\n",
    "The following steps demonstrate how easily Azure ML workspaces can be managed using Python\n",
    "\n",
    "#### Import Required Libraries"
   ]
  },
  {
   "cell_type": "code",
   "execution_count": 1,
   "metadata": {},
   "outputs": [],
   "source": [
    "from azureml.core import Workspace\n",
    "from azureml.core.model import Model"
   ]
  },
  {
   "cell_type": "markdown",
   "metadata": {},
   "source": [
    "#### Define and Initialize Globals"
   ]
  },
  {
   "cell_type": "code",
   "execution_count": 2,
   "metadata": {},
   "outputs": [],
   "source": [
    "const_subscriptionId = '0d3157b5-301e-4bf6-9b9c-723d407c617d'\n",
    "\n",
    "workspace_name = 'customer-churn'\n",
    "resource_group_name = 'amls-rg'\n",
    "new_resource_group = True\n",
    "location_name = 'eastus'"
   ]
  },
  {
   "cell_type": "markdown",
   "metadata": {},
   "source": [
    "#### Create the New Workspace"
   ]
  },
  {
   "cell_type": "code",
   "execution_count": 3,
   "metadata": {},
   "outputs": [
    {
     "name": "stdout",
     "output_type": "stream",
     "text": [
      "Performing interactive authentication. Please follow the instructions on the terminal.\n"
     ]
    },
    {
     "name": "stderr",
     "output_type": "stream",
     "text": [
      "Note, we have launched a browser for you to login. For old experience with device code, use \"az login --use-device-code\"\n",
      "You have logged in. Now let us find all the subscriptions to which you have access...\n"
     ]
    },
    {
     "name": "stdout",
     "output_type": "stream",
     "text": [
      "Interactive authentication successfully completed.\n"
     ]
    },
    {
     "name": "stderr",
     "output_type": "stream",
     "text": [
      "UserWarning: The resource group doesn't exist or was not provided. AzureML SDK is creating a resource group=amls-rg in location=eastus using subscription=0d3157b5-301e-4bf6-9b9c-723d407c617d.\n"
     ]
    },
    {
     "name": "stdout",
     "output_type": "stream",
     "text": [
      "Deploying ContainerRegistry with name customeracrjbwanqho.\n",
      "Deployed ContainerRegistry with name customeracrjbwanqho.\n",
      "Deploying AppInsights with name customerinsightsboyfnjgn.\n",
      "Deployed AppInsights with name customerinsightsboyfnjgn.\n",
      "Deploying KeyVault with name customerkeyvaultpyautyaz.\n",
      "Deploying StorageAccount with name customerstorageqftiqknx.\n",
      "Deployed KeyVault with name customerkeyvaultpyautyaz.\n",
      "Deployed StorageAccount with name customerstorageqftiqknx.\n",
      "Deploying Workspace with name customer-churn.\n",
      "Deployed Workspace with name customer-churn.\n"
     ]
    }
   ],
   "source": [
    "ws = Workspace.create(name=workspace_name,\n",
    "                     subscription_id = const_subscriptionId,\n",
    "                     resource_group = resource_group_name,\n",
    "                     create_resource_group = new_resource_group,\n",
    "                     location = location_name)"
   ]
  },
  {
   "cell_type": "markdown",
   "metadata": {},
   "source": [
    "#### View Workspace Configuration Details "
   ]
  },
  {
   "cell_type": "code",
   "execution_count": 4,
   "metadata": {},
   "outputs": [
    {
     "data": {
      "text/plain": [
       "{'id': '/subscriptions/0d3157b5-301e-4bf6-9b9c-723d407c617d/resourceGroups/amls-rg/providers/Microsoft.MachineLearningServices/workspaces/customer-churn',\n",
       " 'name': 'customer-churn',\n",
       " 'location': 'eastus',\n",
       " 'type': 'Microsoft.MachineLearningServices/workspaces',\n",
       " 'workspaceid': '7c3c6277-732e-44a3-a382-b92fb79d6cb3',\n",
       " 'description': '',\n",
       " 'friendlyName': 'customer-churn',\n",
       " 'creationTime': '2019-04-23T11:07:52.5227729+00:00',\n",
       " 'containerRegistry': '/subscriptions/0d3157b5-301e-4bf6-9b9c-723d407c617d/resourcegroups/amls-rg/providers/microsoft.containerregistry/registries/customeracrjbwanqho',\n",
       " 'keyVault': '/subscriptions/0d3157b5-301e-4bf6-9b9c-723d407c617d/resourcegroups/amls-rg/providers/microsoft.keyvault/vaults/customerkeyvaultpyautyaz',\n",
       " 'applicationInsights': '/subscriptions/0d3157b5-301e-4bf6-9b9c-723d407c617d/resourcegroups/amls-rg/providers/microsoft.insights/components/customerinsightsboyfnjgn',\n",
       " 'identityPrincipalId': '8035567c-2db5-4fe2-882e-32da5b57188b',\n",
       " 'identityTenantId': '40a5e6d0-7715-428d-bad8-799b626da61b',\n",
       " 'identityType': 'SystemAssigned',\n",
       " 'storageAccount': '/subscriptions/0d3157b5-301e-4bf6-9b9c-723d407c617d/resourcegroups/amls-rg/providers/microsoft.storage/storageaccounts/customerstorageqftiqknx'}"
      ]
     },
     "execution_count": 4,
     "metadata": {},
     "output_type": "execute_result"
    }
   ],
   "source": [
    "ws.get_details()"
   ]
  },
  {
   "cell_type": "markdown",
   "metadata": {},
   "source": [
    "### Saving the Workspace Configuration Details\n",
    "Saving the new workspace's configuration details to a local file enables loading the same workspace from other Jupyter Notebooks or Python scripts. Since by default the configuration file (.azureml\\config.json) is created in the directory containing the Jupyter Notebook file used to create the workspace, it can only be loaded by Jupyter Notebooks and Python scripts that reside in that directory or its sub-directories. However, by simply copying the __.azureml\\config.json__ file to a different directory it can then be used to load this workspace from Jupyter Notebooks and Python scripts residing in that directory or its sub-directories. "
   ]
  },
  {
   "cell_type": "code",
   "execution_count": 5,
   "metadata": {},
   "outputs": [],
   "source": [
    "ws.write_config()\n",
    "\n",
    "# Subsequently, the following code is used to load\n",
    "# the workspace from scripts and Jupyter Notebooks\n",
    "\n",
    "# ws = Workspace.from_config()"
   ]
  },
  {
   "cell_type": "code",
   "execution_count": null,
   "metadata": {},
   "outputs": [],
   "source": []
  }
 ],
 "metadata": {
  "kernelspec": {
   "display_name": "Python 3",
   "language": "python",
   "name": "python3"
  },
  "language_info": {
   "codemirror_mode": {
    "name": "ipython",
    "version": 3
   },
   "file_extension": ".py",
   "mimetype": "text/x-python",
   "name": "python",
   "nbconvert_exporter": "python",
   "pygments_lexer": "ipython3",
   "version": "3.6.8"
  }
 },
 "nbformat": 4,
 "nbformat_minor": 2
}
